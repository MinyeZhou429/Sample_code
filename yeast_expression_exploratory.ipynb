{
 "cells": [
  {
   "cell_type": "code",
   "execution_count": null,
   "id": "9e058976",
   "metadata": {},
   "outputs": [],
   "source": [
    "import pandas as pd\n",
    "import numpy as np\n",
    "#read in quantified data\n",
    "growth = pd.read_csv('yeast_growth.tsv', delimiter='\\t')"
   ]
  },
  {
   "cell_type": "code",
   "execution_count": null,
   "id": "162ab024",
   "metadata": {},
   "outputs": [],
   "source": [
    "#dimension reduction\n",
    "!pip install --upgrade scikit-learn\n",
    "from sklearn.manifold import TSNE\n",
    "import matplotlib.pyplot as plt\n",
    "tsne = TSNE(n_components = 2, random_state = 0, init='random')\n",
    "fit = tsne.fit_transform(growth.iloc[:, 3:])"
   ]
  },
  {
   "cell_type": "code",
   "execution_count": null,
   "id": "11d83d8c",
   "metadata": {},
   "outputs": [],
   "source": [
    "tsne_results = pd.DataFrame(fit, columns=['tsne1', 'tsne2'])"
   ]
  },
  {
   "cell_type": "code",
   "execution_count": null,
   "id": "aea42df3",
   "metadata": {},
   "outputs": [],
   "source": [
    "#visualize t-sne result\n",
    "from sklearn.preprocessing import LabelEncoder\n",
    "le = LabelEncoder()\n",
    "color = le.fit_transform(growth['Nutrient'])\n",
    "new_color = []\n",
    "for c in color:\n",
    "    if c==0:\n",
    "        new_color.append('red')\n",
    "    elif c==1:\n",
    "        new_color.append('green')\n",
    "    elif c==2:\n",
    "        new_color.append('blue')\n",
    "    elif c==3:\n",
    "        new_color.append('purple')\n",
    "    elif c==4:\n",
    "        new_color.append('yellow')\n",
    "    else:\n",
    "        new_color.append('black')\n",
    "new_color2 = [\"green\",\"red\",\"purple\",\"yellow\",\"blue\",\"black\"]\n",
    "plt.scatter(tsne_results['tsne1'], tsne_results['tsne2'], c=new_color,s = growth['Rate']*500)\n",
    "plt.xlabel('t-SNE Dimension 1')\n",
    "plt.ylabel('t-SNE Dimension 2')\n",
    "legend_elements = [plt.Line2D([0], [0], marker='o', color='w', label=condition, \n",
    "                               markerfacecolor=color, markersize=10) \n",
    "                   for condition, color in zip(growth['Nutrient'].unique(), \n",
    "                                               new_color2)]\n",
    "\n",
    "plt.legend(handles=legend_elements, loc=\"upper right\")\n",
    "plt.show()"
   ]
  },
  {
   "cell_type": "code",
   "execution_count": null,
   "id": "3d81b828",
   "metadata": {},
   "outputs": [],
   "source": [
    "#pca\n",
    "from sklearn.decomposition import PCA\n",
    "pca = PCA()\n",
    "pca.fit(growth.iloc[:, 3:])\n",
    "pca_results = pca.transform(growth.iloc[:, 3:])\n",
    "plt.scatter(pca_results[:, 0], pca_results[:, 1],c=new_color,s = growth['Rate']*500)\n",
    "plt.xlabel('Principal Component 1')\n",
    "plt.ylabel('Principal Component 2')\n",
    "plt.title('Transformed data')\n",
    "\n",
    "legend_elements = [plt.Line2D([0], [0], marker='o', color='w', label=condition, \n",
    "                               markerfacecolor=color, markersize=10) \n",
    "                   for condition, color in zip(growth['Nutrient'].unique(), \n",
    "                                               new_color2)]\n",
    "\n",
    "plt.legend(handles=legend_elements, loc=\"upper right\")\n",
    "plt.show()"
   ]
  },
  {
   "cell_type": "code",
   "execution_count": null,
   "id": "97fe677b",
   "metadata": {},
   "outputs": [],
   "source": [
    "#DE analysis\n",
    "# your code here (yielding count of significantly DE'ed genes)\n",
    "library(pbapply)\n",
    "library(dplyr)\n",
    "library(radiant.data)\n",
    "dat <- read.csv(\"yeast_growth.tsv\", header=TRUE, row.names=1,sep = \"\\t\")\n",
    "tpm <- dat[, 3:5539]\n",
    "condition = dat$Nutrient == 'Phosphate'\n",
    "test = t.test(tpm[condition],tpm[!condition])$p.value < 0.05\n",
    "tpm2 <- log(tpm+1)\n",
    "alltests = pbapply :: pbapply(tpm2,2,function(x) t.test(x[condition],x[!condition])$p.value)\n",
    "sig <- test.dat$tx[test.dat$pval < 0.05/5537]\n",
    "alltests %>%\n",
    "  as.data.frame() %>%\n",
    "  set_colnames(\"pval\") %>%\n",
    "  rownames_to_column(\"tx\") %>%\n",
    "  arrange(pval) %>%\n",
    "  head()"
   ]
  },
  {
   "cell_type": "code",
   "execution_count": null,
   "id": "cd3769d7",
   "metadata": {},
   "outputs": [],
   "source": [
    "#visualize DE genes\n",
    "most_sig <- dat['YAR071W_PHO11']\n",
    "most_sig$log_x <- log(most_sig$YAR071W_PHO11+1)\n",
    "most_sig$condition <- dat$Nutrient\n",
    "library(ggplot2)\n",
    "ggplot(most_sig, aes(x = condition, y = log_x)) +\n",
    "  geom_point() +\n",
    "  xlab(\"Nutrient conditions\") +\n",
    "  ylab(\"Log Transformed TPM Values\") +\n",
    "  ggtitle(\"Expression across conditions\") +\n",
    "  theme(axis.text.x = element_text(angle = 90, hjust = 1))\n",
    "    \n",
    "    \n",
    "ggplot(most_sig, aes(x = rownames(most_sig), y = log_x, fill = condition)) +\n",
    "  geom_bar(stat = \"identity\") +\n",
    "  labs(x = \"Level\", y = \"Expression\", title = \"Gene Expression Across Levels\") +\n",
    "  xlab(\"Sample ID\") +\n",
    "  ylab(\"Log Transformed TPM Values\") +\n",
    "  ggtitle(\"Expression across samples\") +\n",
    "  theme(axis.text.x = element_text(angle = 90, hjust = 1))"
   ]
  },
  {
   "cell_type": "code",
   "execution_count": null,
   "id": "37ce0f5e",
   "metadata": {},
   "outputs": [],
   "source": [
    "#co-expression clustering\n",
    "variances = np.var(growth.iloc[:, 3:], axis=0)\n",
    "gene_name = growth.columns[3:]\n",
    "gene_var = pd.DataFrame({'var': variances, 'name': gene_name})\n",
    "upper_threshold = gene_var['var'].quantile(0.75)\n",
    "top_quantile = gene_var[gene_var['var'] >= upper_threshold]\n",
    "top_name = top_quantile.index"
   ]
  },
  {
   "cell_type": "code",
   "execution_count": null,
   "id": "f8637a08",
   "metadata": {},
   "outputs": [],
   "source": [
    "#clustering and visualization\n",
    "library(ClassDiscovery)\n",
    "library(dbscan)\n",
    "tx.matrix <- as.matrix(tpm2[,topVar])\n",
    "distance <- distanceMatrix(tx.matrix,\"pearson\")\n",
    "opt <- optics(distance, minPts = 5)\n",
    "test = extractXi(opt,xi=0.05)\n",
    "clusters <- data.frame(sort(table(test$cluster),decreasing = T))\n",
    "clusters_new <- clusters %>%\n",
    "  slice(2:(n() - 1))\n",
    "\n",
    "ggplot(clusters_new, aes(x=Var1, y=Freq)) + \n",
    "  geom_bar(stat=\"identity\") +\n",
    "  labs(x=\"Cluster\", y=\"Number of Genes\") +\n",
    "  theme_classic()"
   ]
  },
  {
   "cell_type": "code",
   "execution_count": null,
   "id": "1b1b2287",
   "metadata": {},
   "outputs": [],
   "source": [
    "#get largest cluster and visualize the expression across samples\n",
    "cluster_indices <- which(test$cluster == 9)\n",
    "cluster9 <- topVar[cluster_indices]\n",
    "write.table(cluster9, \"cluster9.txt\", sep = \"\\t\", row.names = FALSE, col.names = FALSE)\n",
    "with open(\"cluster9.txt\", \"r\") as file:\n",
    "    cluster9 = [line.strip() for line in file]\n",
    "cluster_9_dat = growth[cluster9]\n",
    "cluster9_sorted = cluster_9_dat.sort_values('SampleID')\n",
    "cluster9_sorted.set_index('SampleID', inplace=True)\n",
    "for column in cluster9_sorted.columns:\n",
    "    plt.plot(cluster9_sorted.index, cluster9_sorted[column], label=column)\n",
    "    \n",
    "#plt.legend()\n",
    "plt.xlabel('SampleID')\n",
    "plt.xticks(rotation=90)\n",
    "plt.ylabel('Expression')\n",
    "plt.show()"
   ]
  },
  {
   "cell_type": "code",
   "execution_count": null,
   "id": "fdc3e9eb",
   "metadata": {},
   "outputs": [],
   "source": [
    "#gene set enrichment\n",
    "shiny = pd.read_csv(\"/Users/yeye/Downloads/enrichment_all.csv\", sep=\",\")"
   ]
  }
 ],
 "metadata": {
  "kernelspec": {
   "display_name": "Python 3 (ipykernel)",
   "language": "python",
   "name": "python3"
  },
  "language_info": {
   "codemirror_mode": {
    "name": "ipython",
    "version": 3
   },
   "file_extension": ".py",
   "mimetype": "text/x-python",
   "name": "python",
   "nbconvert_exporter": "python",
   "pygments_lexer": "ipython3",
   "version": "3.9.13"
  }
 },
 "nbformat": 4,
 "nbformat_minor": 5
}
